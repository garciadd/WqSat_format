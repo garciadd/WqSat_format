{
 "cells": [
  {
   "cell_type": "code",
   "execution_count": 1,
   "metadata": {},
   "outputs": [],
   "source": [
    "import os\n",
    "import warnings\n",
    "import numpy as np\n",
    "import rioxarray\n",
    "import xarray as xr\n",
    "import rasterio\n",
    "from rasterio.control import GroundControlPoint\n",
    "from scipy.interpolate import RectBivariateSpline\n",
    "\n",
    "#wqsat_format\n",
    "from wqsat_format import utils\n",
    "from wqsat_format import s3_reader"
   ]
  },
  {
   "cell_type": "code",
   "execution_count": 5,
   "metadata": {},
   "outputs": [
    {
     "name": "stdout",
     "output_type": "stream",
     "text": [
      "(rioxarray.__version__) : 0.18.2\n",
      "(rasterio.__version__) : 1.4.3\n",
      "(xarray.__version__) : 2025.1.2\n"
     ]
    }
   ],
   "source": [
    "print(f'(rioxarray.__version__) : {rioxarray.__version__}')\n",
    "print(f'(rasterio.__version__) : {rasterio.__version__}')\n",
    "print(f'(xarray.__version__) : {xr.__version__}')"
   ]
  },
  {
   "cell_type": "markdown",
   "metadata": {},
   "source": [
    "## S3 Geotiff"
   ]
  },
  {
   "cell_type": "code",
   "execution_count": null,
   "metadata": {},
   "outputs": [
    {
     "name": "stderr",
     "output_type": "stream",
     "text": [
      "/home/dani/github/WqSat_format/.venv/lib/python3.10/site-packages/rioxarray/rioxarray.py:700: UserWarning: Transform that is non-rectilinear or with rotation found. Unable to recalculate.\n",
      "  warnings.warn(\n"
     ]
    },
    {
     "name": "stdout",
     "output_type": "stream",
     "text": [
      "Tif of file /media/dani/Seagate Basic/data/fusion/EFR/S3A_OL_1_EFR____20220129T103458_20220129T103758_20220130T151118_0179_081_222_2340_LN1_O_NT_002.SEN3/ saved at /media/dani/Seagate Basic/data/fusion/EFR/S3A_OL_1_EFR____20220129T103458_20220129T103758_20220130T151118_0179_081_222_2340_LN1_O_NT_002.SEN3/S3A_OL_1_EFR____20220129T103458_20220129T103758_20220130T151118_0179_081_222_2340_LN1_O_NT_002.tif\n",
      "\n"
     ]
    }
   ],
   "source": [
    "path = '****'\n",
    "tile= 'S3A_OL_1_EFR____20220129T103458_20220129T103758_20220130T151118_0179_081_222_2340_LN1_O_NT_002.SEN3'\n",
    "bands = ['Oa02', 'Oa03', 'Oa04', 'Oa05', 'Oa06']\n",
    "roi_lat_lon = {\"N\":39.69779,\n",
    "               \"S\":38.74476,\n",
    "               \"E\":0.770585,\n",
    "               \"W\":-0.44578}\n",
    "\n",
    "tile_path = os.path.join(path, tile)\n",
    "reader = s3_reader.S3Reader(tile_path, bands=bands, roi_lat_lon=roi_lat_lon, atcor=True)\n",
    "reader.read_bands()"
   ]
  }
 ],
 "metadata": {
  "kernelspec": {
   "display_name": ".venv",
   "language": "python",
   "name": "python3"
  },
  "language_info": {
   "codemirror_mode": {
    "name": "ipython",
    "version": 3
   },
   "file_extension": ".py",
   "mimetype": "text/x-python",
   "name": "python",
   "nbconvert_exporter": "python",
   "pygments_lexer": "ipython3",
   "version": "3.10.12"
  }
 },
 "nbformat": 4,
 "nbformat_minor": 2
}
