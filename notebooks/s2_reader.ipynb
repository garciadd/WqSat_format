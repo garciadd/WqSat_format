{
 "cells": [
  {
   "cell_type": "code",
   "execution_count": 1,
   "metadata": {},
   "outputs": [],
   "source": [
    "import os\n",
    "import numpy as np\n",
    "from osgeo import gdal\n",
    "import matplotlib.pyplot as plt\n",
    "\n",
    "from wqsat_format import s2_reader, atcor, utils"
   ]
  },
  {
   "cell_type": "code",
   "execution_count": null,
   "metadata": {},
   "outputs": [
    {
     "name": "stdout",
     "output_type": "stream",
     "text": [
      "Reading band B04 at 10m resolution...\n",
      "Reading band B03 at 10m resolution...\n",
      "Reading band B02 at 10m resolution...\n",
      "Reading band B08 at 10m resolution...\n"
     ]
    }
   ],
   "source": [
    "input_path = '****'  # Path to the input directory containing Sentinel-2 tiles\n",
    "tile = 'S2A_MSIL1C_20220130T105301_N0400_R051_T31SBD_20220130T144107.SAFE'\n",
    "bands = [\"B02\", \"B03\", \"B04\", \"B08\"]\n",
    "roi_lat_lon = {'W': -0.44578, \n",
    "               'S': 38.74476, \n",
    "               'E': 0.77058, \n",
    "               'N': 39.69779}\n",
    "\n",
    "# Define the path to the tile\n",
    "tile_path = os.path.join(input_path, tile)\n",
    "\n",
    "# Read bands\n",
    "reader = s2_reader.S2Reader(tile_path, bands=bands, roi_lat_lon=roi_lat_lon)\n",
    "reader.read_bands()"
   ]
  }
 ],
 "metadata": {
  "kernelspec": {
   "display_name": ".venv",
   "language": "python",
   "name": "python3"
  },
  "language_info": {
   "codemirror_mode": {
    "name": "ipython",
    "version": 3
   },
   "file_extension": ".py",
   "mimetype": "text/x-python",
   "name": "python",
   "nbconvert_exporter": "python",
   "pygments_lexer": "ipython3",
   "version": "3.10.12"
  }
 },
 "nbformat": 4,
 "nbformat_minor": 2
}
