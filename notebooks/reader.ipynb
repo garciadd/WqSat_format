{
 "cells": [
  {
   "cell_type": "code",
   "execution_count": 1,
   "id": "5d93ffec",
   "metadata": {},
   "outputs": [],
   "source": [
    "import os\n",
    "from wqsat_format.manager import FormatManager\n",
    "from wqsat_format import utils"
   ]
  },
  {
   "cell_type": "markdown",
   "id": "81bcd2ec",
   "metadata": {},
   "source": [
    "## Single image — Sentinel-2 or Sentinel-3"
   ]
  },
  {
   "cell_type": "markdown",
   "id": "078c82a0",
   "metadata": {},
   "source": [
    "### Sentinel-2"
   ]
  },
  {
   "cell_type": "code",
   "execution_count": null,
   "id": "3d525aad",
   "metadata": {},
   "outputs": [
    {
     "name": "stdout",
     "output_type": "stream",
     "text": [
      "Reading band B04 at 10m resolution...\n",
      "Reading band B03 at 10m resolution...\n",
      "Reading band B02 at 10m resolution...\n",
      "Reading band B08 at 10m resolution...\n",
      "Reading band B05 at 20m resolution...\n"
     ]
    }
   ],
   "source": [
    "path = '****/your/path/to/data'  # Replace with your actual path\n",
    "tile = 'S2A_MSIL1C_20220130T105301_N0400_R051_T31SBD_20220130T144107.SAFE'\n",
    "\n",
    "settings = {'satellite': 'SENTINEL-2',\n",
    "            'tile_path': os.path.join(path, tile),\n",
    "            'bands': [\"B02\", \"B03\", \"B04\", \"B05\", \"B08\"],\n",
    "            \"roi_lat_lon\": {\"W\": -0.44578672, \"N\": 39.6977979, \"E\": 0.770585925, \"S\": 38.74476371},\n",
    "            'atcor': False,\n",
    "            'output_format': 'GeoTIFF',\n",
    "            'output_dir': path,\n",
    "            }\n",
    "\n",
    "fm = FormatManager(settings)\n",
    "arr_bands, metadata, output_filename = fm.workflow()\n",
    "utils.export_data(arr_bands, metadata, settings['output_dir'], output_filename, settings['output_format'])"
   ]
  },
  {
   "cell_type": "markdown",
   "id": "ae62c65c",
   "metadata": {},
   "source": [
    "### Sentinel-3"
   ]
  },
  {
   "cell_type": "code",
   "execution_count": null,
   "id": "4a57e820",
   "metadata": {},
   "outputs": [
    {
     "name": "stdout",
     "output_type": "stream",
     "text": [
      "Reading band Oa04_radiance...\n",
      "Reading band Oa06_radiance...\n",
      "Reading band Oa08_radiance...\n",
      "📌 Imagen reproyectada:\n",
      " - Lon min: -14.437763\n",
      " - Lon max: 2.491929\n",
      " - Lat min: 29.041917\n",
      " - Lat max: 41.996324\n",
      "📌 ROI solicitado:\n",
      " - Lon W (minx): -0.44578672\n",
      " - Lon E (maxx): 0.770585925\n",
      " - Lat S (miny): 38.74476371\n",
      " - Lat N (maxy): 39.6977979\n",
      "❓¿ROI intersecta imagen?: ✅ Sí\n"
     ]
    }
   ],
   "source": [
    "path = '****your/path/to/Sentinel-3/data'  # Replace with your actual path\n",
    "tile = 'S3A_OL_1_EFR____20220129T103458_20220129T103758_20220130T151118_0179_081_222_2340_LN1_O_NT_002.SEN3'\n",
    "\n",
    "settings = {\"satellite\": \"SENTINEL-3\",\n",
    "            \"tile_path\": os.path.join(path, tile),\n",
    "            'bands': [\"Oa04\", \"Oa06\", \"Oa08\"],\n",
    "            \"roi_lat_lon\": {\"W\": -0.44578672, \"N\": 39.6977979, \"E\": 0.770585925, \"S\": 38.74476371},\n",
    "            \"atcor\": True,\n",
    "            \"output_format\": \"GeoTIFF\",\n",
    "            'output_dir': path\n",
    "}\n",
    "\n",
    "fm = FormatManager(settings)\n",
    "arr_bands, metadata, output_filename = fm.workflow()\n",
    "utils.export_data(arr_bands, metadata, settings['output_dir'], output_filename, settings['output_format'])"
   ]
  },
  {
   "cell_type": "markdown",
   "id": "8bb9a3c4",
   "metadata": {},
   "source": [
    "## Image list, without composite (Sentinel-2)"
   ]
  },
  {
   "cell_type": "code",
   "execution_count": null,
   "id": "d231f4fc",
   "metadata": {},
   "outputs": [
    {
     "name": "stdout",
     "output_type": "stream",
     "text": [
      "Reading tile S2B_MSIL1C_20231004T103809_N0509_R008_T31TDE_20231004T141941.SAFE...\n",
      "Reading band B04 at 10m resolution...\n",
      "Reading band B03 at 10m resolution...\n",
      "Reading band B02 at 10m resolution...\n",
      "Reading tile S2B_MSIL1C_20231004T103809_N0509_R008_T31SDD_20231004T141941.SAFE...\n",
      "Reading band B04 at 10m resolution...\n",
      "Reading band B03 at 10m resolution...\n",
      "Reading band B02 at 10m resolution...\n",
      "Reading tile S2B_MSIL1C_20231001T102739_N0509_R108_T31TEE_20231001T123227.SAFE...\n",
      "Reading band B04 at 10m resolution...\n",
      "Reading band B03 at 10m resolution...\n",
      "Reading band B02 at 10m resolution...\n",
      "Reading tile S2B_MSIL1C_20231001T102739_N0509_R108_T31SED_20231001T123227.SAFE...\n",
      "Reading band B04 at 10m resolution...\n",
      "Reading band B03 at 10m resolution...\n",
      "Reading band B02 at 10m resolution...\n"
     ]
    }
   ],
   "source": [
    "path = '****your/path/to/Sentinel-2/data'  # Replace with your actual path\n",
    "tiles = ['S2B_MSIL1C_20231004T103809_N0509_R008_T31TDE_20231004T141941.SAFE',\n",
    "         'S2B_MSIL1C_20231004T103809_N0509_R008_T31SDD_20231004T141941.SAFE',\n",
    "         'S2B_MSIL1C_20231001T102739_N0509_R108_T31TEE_20231001T123227.SAFE',\n",
    "         'S2B_MSIL1C_20231001T102739_N0509_R108_T31SED_20231001T123227.SAFE']\n",
    "\n",
    "tiles_paths = [os.path.join(path, tile) for tile in tiles]\n",
    "\n",
    "config = {\"satellite\": \"SENTINEL-2\",\n",
    "    \"tile_path\": tiles_paths,\n",
    "    \"bands\": [\"B02\", \"B03\", \"B04\"],\n",
    "    \"roi_lat_lon\": {\"W\": 2.196323, \"N\": 40.054295, \"E\": 3.495239, \"S\": 39.070211},\n",
    "    \"atcor\": False,\n",
    "    \"output_format\": \"GeoTIFF\",\n",
    "    'output_dir': path\n",
    "    }\n",
    "\n",
    "fm = FormatManager(config=config)\n",
    "fm.workflow()"
   ]
  },
  {
   "cell_type": "markdown",
   "id": "bc9fa8bb",
   "metadata": {},
   "source": [
    "## Temporal composite"
   ]
  },
  {
   "cell_type": "code",
   "execution_count": null,
   "id": "cde0b8fa",
   "metadata": {},
   "outputs": [
    {
     "name": "stdout",
     "output_type": "stream",
     "text": [
      "Creating temporal composite for 4 tiles...\n",
      "Reading tile S2A_MSIL1C_20230711T103631_N0509_R008_T31SCC_20230711T160147.SAFE...\n",
      "Reading band B04 at 10m resolution...\n",
      "Reading band B03 at 10m resolution...\n",
      "Reading band B02 at 10m resolution...\n",
      "Reading tile S2A_MSIL1C_20230721T103631_N0509_R008_T31SCC_20230721T160153.SAFE...\n",
      "Reading band B04 at 10m resolution...\n",
      "Reading band B03 at 10m resolution...\n",
      "Reading band B02 at 10m resolution...\n",
      "Reading tile S2A_MSIL1C_20230830T103631_N0509_R008_T31SCC_20230830T160304.SAFE...\n",
      "Reading band B04 at 10m resolution...\n",
      "Reading band B03 at 10m resolution...\n",
      "Reading band B02 at 10m resolution...\n",
      "Reading tile S2B_MSIL1C_20230616T103629_N0509_R008_T31SCC_20230616T124223.SAFE...\n",
      "Reading band B04 at 10m resolution...\n",
      "Reading band B03 at 10m resolution...\n",
      "Reading band B02 at 10m resolution...\n"
     ]
    }
   ],
   "source": [
    "path = '****your/path/to/Sentinel-2/data'  # Replace with your actual path\n",
    "tiles = ['S2A_MSIL1C_20230711T103631_N0509_R008_T31SCC_20230711T160147.SAFE',\n",
    "         'S2A_MSIL1C_20230721T103631_N0509_R008_T31SCC_20230721T160153.SAFE',\n",
    "         'S2A_MSIL1C_20230830T103631_N0509_R008_T31SCC_20230830T160304.SAFE',\n",
    "         'S2B_MSIL1C_20230616T103629_N0509_R008_T31SCC_20230616T124223.SAFE']\n",
    "\n",
    "tiles_paths = [os.path.join(path, tile) for tile in tiles]\n",
    "settings = {\"satellite\": \"SENTINEL-2\",\n",
    "           \"tile_path\": tiles_paths,\n",
    "            \"bands\": [\"B02\", \"B03\", \"B04\"],\n",
    "             \"roi_lat_lon\": {\"W\": 1.306756, \"N\": 38.816081, \"E\": 1.615855, \"S\": 38.626510},\n",
    "             \"atcor\": True,\n",
    "             \"temporal_composite\": \"median\",  # o \"max\"\n",
    "             \"output_format\": \"GeoTIFF\",\n",
    "             'output_dir': path\n",
    "             }\n",
    "\n",
    "fm = FormatManager(settings)\n",
    "arr_bands, metadata, output_filename = fm.workflow()\n",
    "utils.export_data(arr_bands, metadata, settings['output_dir'], output_filename, settings['output_format'])"
   ]
  },
  {
   "cell_type": "markdown",
   "id": "102c41b1",
   "metadata": {},
   "source": [
    "## Spatial Composite"
   ]
  },
  {
   "cell_type": "code",
   "execution_count": null,
   "id": "4313bf79",
   "metadata": {},
   "outputs": [
    {
     "name": "stdout",
     "output_type": "stream",
     "text": [
      "Creating spatial composite for 2 tiles...\n",
      "Reading tile S2B_MSIL1C_20230924T103659_N0509_R008_T31SCC_20230924T141949.SAFE...\n",
      "Reading band B04 at 10m resolution...\n",
      "Reading band B03 at 10m resolution...\n",
      "Reading band B02 at 10m resolution...\n",
      "Reading tile S2B_MSIL1C_20230924T103659_N0509_R008_T31SCD_20230924T141949.SAFE...\n",
      "Reading band B04 at 10m resolution...\n",
      "Reading band B03 at 10m resolution...\n",
      "Reading band B02 at 10m resolution...\n"
     ]
    }
   ],
   "source": [
    "path = '****your/path/to/Sentinel-2/data'  # Replace with your actual path\n",
    "tiles = [\"S2B_MSIL1C_20230924T103659_N0509_R008_T31SCC_20230924T141949.SAFE\",\n",
    "         \"S2B_MSIL1C_20230924T103659_N0509_R008_T31SCD_20230924T141949.SAFE\"]#,\n",
    "        #  \"S2B_MSIL1C_20231001T102739_N0509_R108_T31SED_20231001T123227.SAFE\",\n",
    "        #  \"S2B_MSIL1C_20231001T102739_N0509_R108_T31TEE_20231001T123227.SAFE\",\n",
    "        #  \"S2B_MSIL1C_20231001T102739_N0509_R108_T31TFE_20231001T123227.SAFE\",\n",
    "        #  \"S2B_MSIL1C_20231004T103809_N0509_R008_T31SDD_20231004T141941.SAFE\",\n",
    "        #  \"S2B_MSIL1C_20231004T103809_N0509_R008_T31TDE_20231004T141941.SAFE\"]\n",
    "\n",
    "tiles_paths = [os.path.join(path, tile) for tile in tiles]\n",
    "\n",
    "settings = {\"satellite\": \"SENTINEL-2\",\n",
    "            \"tile_path\": tiles_paths,\n",
    "            \"bands\": [\"B02\", \"B03\", \"B04\"],\n",
    "            \"roi_lat_lon\": {\"W\": 1.153678, \"N\": 40.167859, \"E\": 4.350766, \"S\": 38.522506},\n",
    "            \"atcor\": False,\n",
    "            \"spatial_composite\": True,\n",
    "            \"output_format\": \"GeoTIFF\",\n",
    "            'output_dir': path\n",
    "            }\n",
    "\n",
    "fm = FormatManager(settings)\n",
    "arr_bands, metadata, output_filename = fm.workflow()\n",
    "utils.export_data(arr_bands, metadata, settings['output_dir'], output_filename, settings['output_format'])"
   ]
  },
  {
   "cell_type": "code",
   "execution_count": null,
   "id": "c26c282c",
   "metadata": {},
   "outputs": [
    {
     "data": {
      "text/plain": [
       "<osgeo.gdal.Dataset; proxy of <Swig Object of type 'GDALDatasetShadow *' at 0x721b0ffbe910> >"
      ]
     },
     "execution_count": 2,
     "metadata": {},
     "output_type": "execute_result"
    }
   ],
   "source": [
    "import os\n",
    "from osgeo import gdal\n",
    "path = '*****'\n",
    "tile = 'S2A_MSIL1C_20210904T113321_N0500_R080_T29TNG_20230117T101616_10m.tif'\n",
    "tile_path = os.path.join(path, tile)\n",
    "file_name_out = os.path.join(path, 'S2A_MSIL1C_20210904T113321_N0500_R080_T29TNG_20230117T101616_10m_wgs84.tif')\n",
    "dataset = gdal.Open(tile_path, gdal.GA_ReadOnly)\n",
    "\n",
    "gdal.Warp(file_name_out, dataset, dstSRS = \"+init=epsg:4326\", srcNodata = 0, dstNodata = 65535)"
   ]
  }
 ],
 "metadata": {
  "kernelspec": {
   "display_name": ".venv",
   "language": "python",
   "name": "python3"
  },
  "language_info": {
   "codemirror_mode": {
    "name": "ipython",
    "version": 3
   },
   "file_extension": ".py",
   "mimetype": "text/x-python",
   "name": "python",
   "nbconvert_exporter": "python",
   "pygments_lexer": "ipython3",
   "version": "3.12.3"
  }
 },
 "nbformat": 4,
 "nbformat_minor": 5
}
