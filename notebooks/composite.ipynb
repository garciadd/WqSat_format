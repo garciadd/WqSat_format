{
 "cells": [
  {
   "cell_type": "code",
   "execution_count": 1,
   "id": "d7da442d",
   "metadata": {},
   "outputs": [],
   "source": [
    "import os\n",
    "\n",
    "#wqsat_format\n",
    "from wqsat_format import manager"
   ]
  },
  {
   "cell_type": "code",
   "execution_count": null,
   "id": "f6b2e2d0",
   "metadata": {},
   "outputs": [
    {
     "name": "stdout",
     "output_type": "stream",
     "text": [
      "Reading band B04 at 10m resolution...\n",
      "Reading band B03 at 10m resolution...\n",
      "Reading band B02 at 10m resolution...\n"
     ]
    }
   ],
   "source": [
    "# Define the path to the tile\n",
    "input_path = '****'\n",
    "tile = 'S2A_MSIL1C_20220130T105301_N0400_R051_T31SBD_20220130T144107.SAFE'\n",
    "tile_path = os.path.join(input_path, tile)\n",
    "\n",
    "s2 = manager.SentinelWorkflowManager(\n",
    "    tile_path=tile_path,\n",
    "    bands=[\"B02\", \"B03\", \"B04\"],\n",
    "    roi_lat_lon={\"W\": -0.44578, \"N\": 39.69779, \"E\": 0.77058, \"S\": 38.74476},\n",
    "    output_format=\"netcdf\"\n",
    ")\n",
    "\n",
    "s2.run()"
   ]
  },
  {
   "cell_type": "code",
   "execution_count": null,
   "id": "f87cd8e3",
   "metadata": {},
   "outputs": [
    {
     "name": "stdout",
     "output_type": "stream",
     "text": [
      "Composing temporal tiles...\n",
      "Reading band B04 at 10m resolution...\n",
      "Reading band B03 at 10m resolution...\n",
      "Reading band B02 at 10m resolution...\n",
      "Reading band B04 at 10m resolution...\n",
      "Reading band B03 at 10m resolution...\n",
      "Reading band B02 at 10m resolution...\n",
      "Reading band B04 at 10m resolution...\n",
      "Reading band B03 at 10m resolution...\n",
      "Reading band B02 at 10m resolution...\n",
      "Reading band B04 at 10m resolution...\n",
      "Reading band B03 at 10m resolution...\n",
      "Reading band B02 at 10m resolution...\n"
     ]
    }
   ],
   "source": [
    "tiles = [\"****/S2A_MSIL1C_20230711T103631_N0509_R008_T31SCC_20230711T160147.SAFE\",\n",
    "         \"****/S2A_MSIL1C_20230721T103631_N0509_R008_T31SCC_20230721T160153.SAFE\",\n",
    "         \"****/S2A_MSIL1C_20230830T103631_N0509_R008_T31SCC_20230830T160304.SAFE\",\n",
    "         \"****/S2B_MSIL1C_20230616T103629_N0509_R008_T31SCC_20230616T124223.SAFE\"]\n",
    "\n",
    "s2 = manager.SentinelWorkflowManager(\n",
    "    tile_path=tiles,\n",
    "    bands=[\"B02\", \"B03\", \"B04\"],\n",
    "    roi_lat_lon={\"W\": 1.306756, \"N\": 38.816081, \"E\": 1.615855, \"S\": 38.626510},\n",
    "    temporal_composite=\"median\",\n",
    "    output_format=\"netcdf\"\n",
    ")\n",
    "\n",
    "s2.run()"
   ]
  },
  {
   "cell_type": "code",
   "execution_count": null,
   "id": "e7a4fa4b",
   "metadata": {},
   "outputs": [
    {
     "name": "stdout",
     "output_type": "stream",
     "text": [
      "Composing spatial tiles...\n",
      "Reading tile S2B_MSIL1C_20231001T102739_N0509_R108_T31SED_20231001T123227.SAFE...\n",
      "Reading band B04 at 10m resolution...\n",
      "Reading band B03 at 10m resolution...\n",
      "Reading band B02 at 10m resolution...\n",
      "Reading tile S2B_MSIL1C_20231001T102739_N0509_R108_T31TEE_20231001T123227.SAFE...\n",
      "Reading band B04 at 10m resolution...\n",
      "Reading band B03 at 10m resolution...\n",
      "Reading band B02 at 10m resolution...\n",
      "Reading tile S2B_MSIL1C_20231004T103809_N0509_R008_T31SDD_20231004T141941.SAFE...\n",
      "Reading band B04 at 10m resolution...\n",
      "Reading band B03 at 10m resolution...\n",
      "Reading band B02 at 10m resolution...\n",
      "Reading tile S2B_MSIL1C_20231004T103809_N0509_R008_T31TDE_20231004T141941.SAFE...\n",
      "Reading band B04 at 10m resolution...\n",
      "Reading band B03 at 10m resolution...\n",
      "Reading band B02 at 10m resolution...\n"
     ]
    }
   ],
   "source": [
    "tile_list = [\"****/S2B_MSIL1C_20231001T102739_N0509_R108_T31SED_20231001T123227.SAFE\",\n",
    "             \"****/S2B_MSIL1C_20231001T102739_N0509_R108_T31TEE_20231001T123227.SAFE\",\n",
    "             \"****/S2B_MSIL1C_20231004T103809_N0509_R008_T31SDD_20231004T141941.SAFE\",\n",
    "             \"****/S2B_MSIL1C_20231004T103809_N0509_R008_T31TDE_20231004T141941.SAFE\",]\n",
    "\n",
    "s2 = manager.SentinelWorkflowManager(\n",
    "    tile_path=tile_list,\n",
    "    bands=[\"B04\", \"B03\", \"B02\"],\n",
    "    roi_lat_lon={\"W\": 2.165344, \"N\": 39.943621, \"E\": 3.508696, \"S\": 39.102196},  # Opcional\n",
    "    atcor=True,\n",
    "    spatial_composite=True,\n",
    "    output_format=\"netcdf\"\n",
    ")\n",
    "\n",
    "s2.run()"
   ]
  }
 ],
 "metadata": {
  "kernelspec": {
   "display_name": ".venv",
   "language": "python",
   "name": "python3"
  },
  "language_info": {
   "codemirror_mode": {
    "name": "ipython",
    "version": 3
   },
   "file_extension": ".py",
   "mimetype": "text/x-python",
   "name": "python",
   "nbconvert_exporter": "python",
   "pygments_lexer": "ipython3",
   "version": "3.10.12"
  }
 },
 "nbformat": 4,
 "nbformat_minor": 5
}
